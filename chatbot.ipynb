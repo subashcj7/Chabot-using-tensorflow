{
  "nbformat": 4,
  "nbformat_minor": 0,
  "metadata": {
    "colab": {
      "name": "chatbot.ipynb",
      "provenance": [],
      "collapsed_sections": [],
      "include_colab_link": true
    },
    "kernelspec": {
      "display_name": "Python 3",
      "language": "python",
      "name": "python3"
    },
    "language_info": {
      "codemirror_mode": {
        "name": "ipython",
        "version": 3
      },
      "file_extension": ".py",
      "mimetype": "text/x-python",
      "name": "python",
      "nbconvert_exporter": "python",
      "pygments_lexer": "ipython3",
      "version": "3.8.3"
    }
  },
  "cells": [
    {
      "cell_type": "markdown",
      "metadata": {
        "id": "view-in-github",
        "colab_type": "text"
      },
      "source": [
        "<a href=\"https://colab.research.google.com/github/subashcj7/Chabot-using-tensorflow/blob/main/chatbot.ipynb\" target=\"_parent\"><img src=\"https://colab.research.google.com/assets/colab-badge.svg\" alt=\"Open In Colab\"/></a>"
      ]
    },
    {
      "cell_type": "markdown",
      "metadata": {
        "id": "1EejLg2TcVQ8"
      },
      "source": [
        "<h2>Libraries</h2>\n",
        "The main libraries that are used are tensorflow2, keras , numpy and pandas\n",
        "\n",
        "#the goal is to create a chatbot to help in the recruitment process. organization name is Pirate's. "
      ]
    },
    {
      "cell_type": "code",
      "metadata": {
        "id": "70nBFLDY0kcP"
      },
      "source": [
        "#importing the libraries\n",
        "import tensorflow as tf\n",
        "import numpy as np\n",
        "import pandas as pd\n",
        "import json\n",
        "import nltk\n",
        "from tensorflow.keras.preprocessing.text import Tokenizer\n",
        "from tensorflow.keras.layers import Input, Embedding, LSTM , Dense,GlobalMaxPooling1D,Flatten\n",
        "from tensorflow.keras.models import Model\n",
        "import matplotlib.pyplot as plt"
      ],
      "execution_count": null,
      "outputs": []
    },
    {
      "cell_type": "code",
      "metadata": {
        "colab": {
          "base_uri": "https://localhost:8080/"
        },
        "id": "6fF-1A48cgbQ",
        "outputId": "2d52b573-dfa4-4726-f3f3-dcdaecc14bfc"
      },
      "source": [
        "%%writefile content.json\n",
        "{\"intents\":\n",
        "  [\n",
        "    {\n",
        "      \"tag\":\"greeting\",\n",
        "      \"input\":[\"hello\",\"hi there\",\"nice to meet you\",\"hi, is this is the pirate's organization\",\"any pirates here ?\",\"hi\",\"hey there\",\"hey\",\"hi there\",\"hi, nice to meet you\",\"hello there\",\"anyone there ?\",\"hello pirates\",\"knock knock\"],\n",
        "      \"responses\":[\n",
        "          \"Hi. Welcome to the world's largest pirate organization - The Strawhats\",\n",
        "          \"Hey yo, do you need help ?\",\n",
        "          \"welcome aboard, how may I help you ?\",\n",
        "          \"ahoy!!\",\n",
        "          \"Hi random person, what do'ya want ?\",\n",
        "          \"Hello my friend, How can I help you ?\",\n",
        "          \"Ha , Glad you showed up. How are you ?\"\n",
        "        ]\n",
        "    },\n",
        "    {\n",
        "      \"tag\":\"goodbye\",\n",
        "      \"input\":[\"Thank you\",\"Thanks\",\"Thanks for the info\",\"bye\",\"byr bro\",\"adios\",\"okay bye\",\"goodbye\",\"see you later\",\"i will catch you later\",\"i will catch up later\",\"okay i will see you later\",\"I will talk to you later\",\"will text you later\",\"bye bro, I'll talk to you later\",\"Bye brother\"],\n",
        "      \"responses\":[\n",
        "          \"Okay, Bye\",\n",
        "          \"Have a nice day\",\n",
        "          \"Adios\",\n",
        "          \"Goodbye\",\n",
        "          \"see you later\",\n",
        "          \"nice conversation. bye\",\n",
        "          \"okay. Have a nice day\",\n",
        "          \"Take care\",\n",
        "          \"we'll meet soon\",\n",
        "          \"Yeah Sure, Will talk to you later\",\n",
        "          \"Okay , Take care\"\n",
        "        ]\n",
        "    },\n",
        "    {\n",
        "      \"tag\":\"howami\",\n",
        "      \"input\":[\"how are you ?\",\"I am fine , how are you ?\",\"are you fine ?\",\"how are things going on ?\",\"everything going on okay ?\",\"how's everything there ?\",\"how's everything going on ?\",\"is everything okay ?\"],\n",
        "      \"responses\":[\n",
        "          \"Yeah , am fine\",\n",
        "          \"Everything's going on well\",\n",
        "          \"Doing good.Thanks you are my best friend\",\n",
        "          \"Things are Great\",\n",
        "          \"Yeah Fine, nothing much going on in my life\",\n",
        "          \"I am Great , wanna join the pirate's organization ?\",\n",
        "          \"Everything's great.\",\n",
        "          \"I am doing good. Life is boring. need to go on an adventure\"\n",
        "        ]\n",
        "    },\n",
        "    {\n",
        "      \"tag\":\"whoareyou\",\n",
        "    \"input\":[\"who are you ?\",\"what are you ?\",\"what is your name ?\",\"are you a chatbot ?\",\"what can I call you ?\",\"your name ?\",\"are you a bot ?\",\"how do I address you ?\",\"How do I call you\"],\n",
        "      \"responses\":[\n",
        "          \"I am a The Great Pirate Bot , you can call me Going Merry\",\n",
        "          \"I am Going Merry and you could ask me questions about our organization\",\n",
        "          \"Going Merry at your service\",\n",
        "          \"My name is Going Merry and yes, I am the G.O.A.T\",\n",
        "          \"You can call me TechBot and I am here to Help you\",\n",
        "          \"My name is Going Merry and I am here to answer your questions regarding our organization. go ahead and shoot\"\n",
        "        ]\n",
        "    },\n",
        "    {\n",
        "      \"tag\":\"whereareyou\",\n",
        "    \"input\":[\"where are you from ?\",\"which country are you from ?\",\"where do you live ?\",\"where are you ?\",\"where do you live in ?\",\"which place do you live in ?\",\"where are you currently at\",\"where do you live currently ?\",\"you are from where\",\"you are from ?\"],\n",
        "      \"responses\":[\n",
        "          \"I Live in the East Blue\",\n",
        "          \"I am setting sail to the grand line\",\n",
        "          \"I live in East Blue. Pretty sure you wouldn't have heard about that\",\n",
        "          \"East Blue. That's where I live\"\n",
        "        ]\n",
        "    },\n",
        "    {\n",
        "      \"tag\":\"join\",\n",
        "      \"input\":[\"how to get recruited ?\",\"how to join ?\",\"how do i get recruited ?\",\"How to join the strawhats ?\",\"how do I join the straw hats ?\",\"how to join the straw hat pirates ?\",\"how to enroll\",\"how to join the organization\",\"steps to join the organization\",\"steps to join the pirates\"],\n",
        "      \"responses\":[\n",
        "\n",
        "        \"you need to contact the nearest straw hats center once you have completed the pre-requisites\",\n",
        "        \"contact the closest straw hat center from your location\",\n",
        "        \"well. there are some pre-requisite and after you complete them, find the straw hat centers\"\n",
        "\n",
        "      ]\n",
        "    },\n",
        "    {\n",
        "      \"tag\":\"whereisthecenter\",\n",
        "      \"input\":[\"where is the straw hat center located ?\",\"location of the straw hat center ?\",\"strawhat center's location ?\",\"where can I find the strawhat center ?\",\"where can I find the strawhat center ?\"],\n",
        "      \"responses\":[\n",
        "\n",
        "        \"That's up to you. use your skills\",\n",
        "        \"They are present all over the city you live in. Find them on your own. I can't give any more information\",\n",
        "        \"there are a lot of straw hat centers in the city you are in. find them.\"\n",
        "      ]\n",
        "    },\n",
        "    {\n",
        "      \"tag\":\"prerequisites\",\n",
        "      \"input\":[\"what are the job requirements ?\",\"what are the pre requisites ?\",\"what are the pre-requisites ?\",\"tell me about the pre-requisites\",\"tell me more about the pre requisites\",\"give more details about the pre-requisites\",\"What are the requirements\",\" what's the basic requirements\",\"what are the basic skills to get recruited ?\"],\n",
        "      \"responses\":[\n",
        "        \"you gotta master the art of swordfight or master Cooking and become a furious cook or you have to be the best navigator in the entire world or you need to be as strong and intelligent as god usop\",\n",
        "        \"swordsman, a medical reindeer, taekwando Cook, master navigator, simple minded monkey, highly intelligent strategist, god usop. you gotta be one of these things to pass the requirement and join the pirates\"\n",
        "      ]\n",
        "    }\n",
        "  ]\n",
        "}"
      ],
      "execution_count": null,
      "outputs": [
        {
          "output_type": "stream",
          "text": [
            "Writing content.json\n"
          ],
          "name": "stdout"
        }
      ]
    },
    {
      "cell_type": "markdown",
      "metadata": {
        "id": "nw9zYjGycVQ9"
      },
      "source": [
        "<h2> Importing the Data </h2>\n",
        "\n",
        "The data is stored in a json file, which can be imported and used as a pandas dataframe.\n",
        "This data was manually created by me. hence, it's not that big.<br>\n",
        "we all know that deep learning requires large chunks of data. but, That is not the case here. I have utilized a neural network architecture powerful enough to handle this small amount of data"
      ]
    },
    {
      "cell_type": "code",
      "metadata": {
        "id": "Rvgn3orx0sAJ"
      },
      "source": [
        "#importing the dataset\n",
        "with open('content.json') as content:\n",
        "  data1 = json.load(content)"
      ],
      "execution_count": null,
      "outputs": []
    },
    {
      "cell_type": "code",
      "metadata": {
        "id": "PGGvrVhl07o8"
      },
      "source": [
        "#getting all the data to lists\n",
        "tags = []\n",
        "inputs = []\n",
        "responses={}\n",
        "for intent in data1['intents']:\n",
        "  responses[intent['tag']]=intent['responses']\n",
        "  for lines in intent['input']:\n",
        "    inputs.append(lines)\n",
        "    tags.append(intent['tag'])"
      ],
      "execution_count": null,
      "outputs": []
    },
    {
      "cell_type": "code",
      "metadata": {
        "id": "ruibWXd_3xFR"
      },
      "source": [
        "#converting to dataframe\n",
        "data = pd.DataFrame({\"inputs\":inputs,\n",
        "                     \"tags\":tags})"
      ],
      "execution_count": null,
      "outputs": []
    },
    {
      "cell_type": "code",
      "metadata": {
        "colab": {
          "base_uri": "https://localhost:8080/",
          "height": 423
        },
        "id": "elc0th634mTr",
        "outputId": "125ce717-a6db-481f-e192-a04fb639e15e"
      },
      "source": [
        "#printing the data\n",
        "data"
      ],
      "execution_count": null,
      "outputs": [
        {
          "output_type": "execute_result",
          "data": {
            "text/html": [
              "<div>\n",
              "<style scoped>\n",
              "    .dataframe tbody tr th:only-of-type {\n",
              "        vertical-align: middle;\n",
              "    }\n",
              "\n",
              "    .dataframe tbody tr th {\n",
              "        vertical-align: top;\n",
              "    }\n",
              "\n",
              "    .dataframe thead th {\n",
              "        text-align: right;\n",
              "    }\n",
              "</style>\n",
              "<table border=\"1\" class=\"dataframe\">\n",
              "  <thead>\n",
              "    <tr style=\"text-align: right;\">\n",
              "      <th></th>\n",
              "      <th>inputs</th>\n",
              "      <th>tags</th>\n",
              "    </tr>\n",
              "  </thead>\n",
              "  <tbody>\n",
              "    <tr>\n",
              "      <th>0</th>\n",
              "      <td>hello</td>\n",
              "      <td>greeting</td>\n",
              "    </tr>\n",
              "    <tr>\n",
              "      <th>1</th>\n",
              "      <td>hi there</td>\n",
              "      <td>greeting</td>\n",
              "    </tr>\n",
              "    <tr>\n",
              "      <th>2</th>\n",
              "      <td>nice to meet you</td>\n",
              "      <td>greeting</td>\n",
              "    </tr>\n",
              "    <tr>\n",
              "      <th>3</th>\n",
              "      <td>hi, is this is the pirate's organization</td>\n",
              "      <td>greeting</td>\n",
              "    </tr>\n",
              "    <tr>\n",
              "      <th>4</th>\n",
              "      <td>any pirates here ?</td>\n",
              "      <td>greeting</td>\n",
              "    </tr>\n",
              "    <tr>\n",
              "      <th>...</th>\n",
              "      <td>...</td>\n",
              "      <td>...</td>\n",
              "    </tr>\n",
              "    <tr>\n",
              "      <th>76</th>\n",
              "      <td>tell me more about the pre requisites</td>\n",
              "      <td>prerequisites</td>\n",
              "    </tr>\n",
              "    <tr>\n",
              "      <th>77</th>\n",
              "      <td>give more details about the pre-requisites</td>\n",
              "      <td>prerequisites</td>\n",
              "    </tr>\n",
              "    <tr>\n",
              "      <th>78</th>\n",
              "      <td>What are the requirements</td>\n",
              "      <td>prerequisites</td>\n",
              "    </tr>\n",
              "    <tr>\n",
              "      <th>79</th>\n",
              "      <td>what's the basic requirements</td>\n",
              "      <td>prerequisites</td>\n",
              "    </tr>\n",
              "    <tr>\n",
              "      <th>80</th>\n",
              "      <td>what are the basic skills to get recruited ?</td>\n",
              "      <td>prerequisites</td>\n",
              "    </tr>\n",
              "  </tbody>\n",
              "</table>\n",
              "<p>81 rows × 2 columns</p>\n",
              "</div>"
            ],
            "text/plain": [
              "                                          inputs           tags\n",
              "0                                          hello       greeting\n",
              "1                                       hi there       greeting\n",
              "2                               nice to meet you       greeting\n",
              "3       hi, is this is the pirate's organization       greeting\n",
              "4                             any pirates here ?       greeting\n",
              "..                                           ...            ...\n",
              "76         tell me more about the pre requisites  prerequisites\n",
              "77    give more details about the pre-requisites  prerequisites\n",
              "78                     What are the requirements  prerequisites\n",
              "79                 what's the basic requirements  prerequisites\n",
              "80  what are the basic skills to get recruited ?  prerequisites\n",
              "\n",
              "[81 rows x 2 columns]"
            ]
          },
          "metadata": {
            "tags": []
          },
          "execution_count": 7
        }
      ]
    },
    {
      "cell_type": "code",
      "metadata": {
        "id": "xd5Z3_oFf7iA"
      },
      "source": [
        "data = data.sample(frac=1)"
      ],
      "execution_count": null,
      "outputs": []
    },
    {
      "cell_type": "markdown",
      "metadata": {
        "id": "v37zLVw0cVRA"
      },
      "source": [
        "<h2> Pre-Processing </h2>\n",
        "\n",
        "Important pre-processing such as removing the punctuations, converting to lowercase, encoding the textual data to numerical data are done"
      ]
    },
    {
      "cell_type": "code",
      "metadata": {
        "colab": {
          "base_uri": "https://localhost:8080/",
          "height": 423
        },
        "id": "mm4koLwuGGJb",
        "outputId": "fce722b2-e0bd-454e-8a33-87ec3e0e5d1a"
      },
      "source": [
        "#removing punctuations\n",
        "import string\n",
        "data['inputs'] = data['inputs'].apply(lambda wrd:[ltrs.lower() for ltrs in wrd if ltrs not in string.punctuation])\n",
        "data['inputs'] = data['inputs'].apply(lambda wrd: ''.join(wrd))\n",
        "data"
      ],
      "execution_count": null,
      "outputs": [
        {
          "output_type": "execute_result",
          "data": {
            "text/html": [
              "<div>\n",
              "<style scoped>\n",
              "    .dataframe tbody tr th:only-of-type {\n",
              "        vertical-align: middle;\n",
              "    }\n",
              "\n",
              "    .dataframe tbody tr th {\n",
              "        vertical-align: top;\n",
              "    }\n",
              "\n",
              "    .dataframe thead th {\n",
              "        text-align: right;\n",
              "    }\n",
              "</style>\n",
              "<table border=\"1\" class=\"dataframe\">\n",
              "  <thead>\n",
              "    <tr style=\"text-align: right;\">\n",
              "      <th></th>\n",
              "      <th>inputs</th>\n",
              "      <th>tags</th>\n",
              "    </tr>\n",
              "  </thead>\n",
              "  <tbody>\n",
              "    <tr>\n",
              "      <th>63</th>\n",
              "      <td>how to enroll</td>\n",
              "      <td>join</td>\n",
              "    </tr>\n",
              "    <tr>\n",
              "      <th>4</th>\n",
              "      <td>any pirates here</td>\n",
              "      <td>greeting</td>\n",
              "    </tr>\n",
              "    <tr>\n",
              "      <th>69</th>\n",
              "      <td>strawhat centers location</td>\n",
              "      <td>whereisthecenter</td>\n",
              "    </tr>\n",
              "    <tr>\n",
              "      <th>48</th>\n",
              "      <td>which country are you from</td>\n",
              "      <td>whereareyou</td>\n",
              "    </tr>\n",
              "    <tr>\n",
              "      <th>73</th>\n",
              "      <td>what are the pre requisites</td>\n",
              "      <td>prerequisites</td>\n",
              "    </tr>\n",
              "    <tr>\n",
              "      <th>...</th>\n",
              "      <td>...</td>\n",
              "      <td>...</td>\n",
              "    </tr>\n",
              "    <tr>\n",
              "      <th>40</th>\n",
              "      <td>what is your name</td>\n",
              "      <td>whoareyou</td>\n",
              "    </tr>\n",
              "    <tr>\n",
              "      <th>57</th>\n",
              "      <td>how to get recruited</td>\n",
              "      <td>join</td>\n",
              "    </tr>\n",
              "    <tr>\n",
              "      <th>15</th>\n",
              "      <td>thanks</td>\n",
              "      <td>goodbye</td>\n",
              "    </tr>\n",
              "    <tr>\n",
              "      <th>22</th>\n",
              "      <td>see you later</td>\n",
              "      <td>goodbye</td>\n",
              "    </tr>\n",
              "    <tr>\n",
              "      <th>56</th>\n",
              "      <td>you are from</td>\n",
              "      <td>whereareyou</td>\n",
              "    </tr>\n",
              "  </tbody>\n",
              "</table>\n",
              "<p>81 rows × 2 columns</p>\n",
              "</div>"
            ],
            "text/plain": [
              "                          inputs              tags\n",
              "63                 how to enroll              join\n",
              "4              any pirates here           greeting\n",
              "69    strawhat centers location   whereisthecenter\n",
              "48   which country are you from        whereareyou\n",
              "73  what are the pre requisites      prerequisites\n",
              "..                           ...               ...\n",
              "40            what is your name          whoareyou\n",
              "57         how to get recruited               join\n",
              "15                        thanks           goodbye\n",
              "22                 see you later           goodbye\n",
              "56                 you are from        whereareyou\n",
              "\n",
              "[81 rows x 2 columns]"
            ]
          },
          "metadata": {
            "tags": []
          },
          "execution_count": 9
        }
      ]
    },
    {
      "cell_type": "code",
      "metadata": {
        "id": "eNahMu32_h1Q"
      },
      "source": [
        "#tokenize the data\n",
        "from tensorflow.keras.preprocessing.text import Tokenizer\n",
        "tokenizer = Tokenizer(num_words=2000)\n",
        "tokenizer.fit_on_texts(data['inputs'])\n",
        "train = tokenizer.texts_to_sequences(data['inputs'])\n",
        "#apply padding\n",
        "from tensorflow.keras.preprocessing.sequence import pad_sequences\n",
        "x_train = pad_sequences(train)\n",
        "\n",
        "#encoding the outputs\n",
        "from sklearn.preprocessing import LabelEncoder\n",
        "le = LabelEncoder()\n",
        "y_train = le.fit_transform(data['tags'])"
      ],
      "execution_count": null,
      "outputs": []
    },
    {
      "cell_type": "markdown",
      "metadata": {
        "id": "kgQ85liAcVRB"
      },
      "source": [
        "Tensorflow's tokenizer assigns a unique token to each distinct word. and padding is done to get all the data to the same length so as to send it to an rnn layer"
      ]
    },
    {
      "cell_type": "code",
      "metadata": {
        "colab": {
          "base_uri": "https://localhost:8080/"
        },
        "id": "A-VY9ZnyM_65",
        "outputId": "2c20bbba-bfd4-4d08-cda4-43624cb618a4"
      },
      "source": [
        "input_shape = x_train.shape[1]\n",
        "print(input_shape)"
      ],
      "execution_count": null,
      "outputs": [
        {
          "output_type": "stream",
          "text": [
            "8\n"
          ],
          "name": "stdout"
        }
      ]
    },
    {
      "cell_type": "code",
      "metadata": {
        "colab": {
          "base_uri": "https://localhost:8080/"
        },
        "id": "OaXDwXOIAkR4",
        "outputId": "8271e17e-3565-4773-ef08-1acdb610e176"
      },
      "source": [
        "#define vocabulary\n",
        "vocabulary = len(tokenizer.word_index)\n",
        "print(\"number of unique words : \",vocabulary)\n",
        "output_length = le.classes_.shape[0]\n",
        "print(\"output length: \",output_length)"
      ],
      "execution_count": null,
      "outputs": [
        {
          "output_type": "stream",
          "text": [
            "number of unique words :  96\n",
            "output length:  8\n"
          ],
          "name": "stdout"
        }
      ]
    },
    {
      "cell_type": "markdown",
      "metadata": {
        "id": "Z6z1UgiscVRC"
      },
      "source": [
        "<h2>Neural Network</h2>\n",
        "\n",
        "The Network consist of an embedding layer which is one of the most powerful things in the field of natural language processing. the outputs of the embedding layer is the input of the reccurent layer with lstm gate. then, the output is flattened and a regular dense layer is used with a softmax activation function.\n",
        "\n",
        "The main part is the embedding layer which gives has a corresponding vector for each word in the dataset"
      ]
    },
    {
      "cell_type": "code",
      "metadata": {
        "id": "vaCZkzTEJCd6"
      },
      "source": [
        "#creating the model\n",
        "\n",
        "i = Input(shape=(input_shape,))\n",
        "x = Embedding(vocabulary+1,10)(i)\n",
        "x = LSTM(10,return_sequences=True)(x)\n",
        "x = Flatten()(x)\n",
        "x = Dense(output_length,activation=\"softmax\")(x)\n",
        "model  = Model(i,x)"
      ],
      "execution_count": null,
      "outputs": []
    },
    {
      "cell_type": "code",
      "metadata": {
        "id": "rqF-km_SK04Q"
      },
      "source": [
        "#compiling the model\n",
        "model.compile(loss=\"sparse_categorical_crossentropy\",optimizer='adam',metrics=['accuracy'])"
      ],
      "execution_count": null,
      "outputs": []
    },
    {
      "cell_type": "code",
      "metadata": {
        "colab": {
          "base_uri": "https://localhost:8080/"
        },
        "id": "Iml1HlsFLUFY",
        "outputId": "c9d57800-8cd5-415f-e7bf-4ac278a639fa"
      },
      "source": [
        "#training the model\n",
        "train = model.fit(x_train,y_train,epochs=200)"
      ],
      "execution_count": null,
      "outputs": [
        {
          "output_type": "stream",
          "text": [
            "Epoch 1/200\n",
            "3/3 [==============================] - 3s 13ms/step - loss: 2.0780 - accuracy: 0.0864\n",
            "Epoch 2/200\n",
            "3/3 [==============================] - 0s 7ms/step - loss: 2.0734 - accuracy: 0.2593\n",
            "Epoch 3/200\n",
            "3/3 [==============================] - 0s 7ms/step - loss: 2.0688 - accuracy: 0.2963\n",
            "Epoch 4/200\n",
            "3/3 [==============================] - 0s 7ms/step - loss: 2.0648 - accuracy: 0.2593\n",
            "Epoch 5/200\n",
            "3/3 [==============================] - 0s 7ms/step - loss: 2.0600 - accuracy: 0.2099\n",
            "Epoch 6/200\n",
            "3/3 [==============================] - 0s 7ms/step - loss: 2.0552 - accuracy: 0.1975\n",
            "Epoch 7/200\n",
            "3/3 [==============================] - 0s 10ms/step - loss: 2.0495 - accuracy: 0.1975\n",
            "Epoch 8/200\n",
            "3/3 [==============================] - 0s 8ms/step - loss: 2.0436 - accuracy: 0.1975\n",
            "Epoch 9/200\n",
            "3/3 [==============================] - 0s 7ms/step - loss: 2.0371 - accuracy: 0.1975\n",
            "Epoch 10/200\n",
            "3/3 [==============================] - 0s 8ms/step - loss: 2.0298 - accuracy: 0.1975\n",
            "Epoch 11/200\n",
            "3/3 [==============================] - 0s 7ms/step - loss: 2.0225 - accuracy: 0.1975\n",
            "Epoch 12/200\n",
            "3/3 [==============================] - 0s 9ms/step - loss: 2.0140 - accuracy: 0.1975\n",
            "Epoch 13/200\n",
            "3/3 [==============================] - 0s 8ms/step - loss: 2.0038 - accuracy: 0.1975\n",
            "Epoch 14/200\n",
            "3/3 [==============================] - 0s 8ms/step - loss: 1.9947 - accuracy: 0.1975\n",
            "Epoch 15/200\n",
            "3/3 [==============================] - 0s 11ms/step - loss: 1.9854 - accuracy: 0.1975\n",
            "Epoch 16/200\n",
            "3/3 [==============================] - 0s 7ms/step - loss: 1.9742 - accuracy: 0.1975\n",
            "Epoch 17/200\n",
            "3/3 [==============================] - 0s 9ms/step - loss: 1.9642 - accuracy: 0.1975\n",
            "Epoch 18/200\n",
            "3/3 [==============================] - 0s 9ms/step - loss: 1.9541 - accuracy: 0.1975\n",
            "Epoch 19/200\n",
            "3/3 [==============================] - 0s 9ms/step - loss: 1.9432 - accuracy: 0.1975\n",
            "Epoch 20/200\n",
            "3/3 [==============================] - 0s 8ms/step - loss: 1.9336 - accuracy: 0.1975\n",
            "Epoch 21/200\n",
            "3/3 [==============================] - 0s 8ms/step - loss: 1.9213 - accuracy: 0.1975\n",
            "Epoch 22/200\n",
            "3/3 [==============================] - 0s 8ms/step - loss: 1.9114 - accuracy: 0.2099\n",
            "Epoch 23/200\n",
            "3/3 [==============================] - 0s 8ms/step - loss: 1.9007 - accuracy: 0.2222\n",
            "Epoch 24/200\n",
            "3/3 [==============================] - 0s 8ms/step - loss: 1.8870 - accuracy: 0.2346\n",
            "Epoch 25/200\n",
            "3/3 [==============================] - 0s 8ms/step - loss: 1.8746 - accuracy: 0.2469\n",
            "Epoch 26/200\n",
            "3/3 [==============================] - 0s 8ms/step - loss: 1.8597 - accuracy: 0.2469\n",
            "Epoch 27/200\n",
            "3/3 [==============================] - 0s 8ms/step - loss: 1.8459 - accuracy: 0.2593\n",
            "Epoch 28/200\n",
            "3/3 [==============================] - 0s 8ms/step - loss: 1.8305 - accuracy: 0.2469\n",
            "Epoch 29/200\n",
            "3/3 [==============================] - 0s 7ms/step - loss: 1.8152 - accuracy: 0.2469\n",
            "Epoch 30/200\n",
            "3/3 [==============================] - 0s 7ms/step - loss: 1.7980 - accuracy: 0.2469\n",
            "Epoch 31/200\n",
            "3/3 [==============================] - 0s 9ms/step - loss: 1.7821 - accuracy: 0.2469\n",
            "Epoch 32/200\n",
            "3/3 [==============================] - 0s 9ms/step - loss: 1.7627 - accuracy: 0.2469\n",
            "Epoch 33/200\n",
            "3/3 [==============================] - 0s 9ms/step - loss: 1.7438 - accuracy: 0.2840\n",
            "Epoch 34/200\n",
            "3/3 [==============================] - 0s 9ms/step - loss: 1.7253 - accuracy: 0.2963\n",
            "Epoch 35/200\n",
            "3/3 [==============================] - 0s 17ms/step - loss: 1.7062 - accuracy: 0.3210\n",
            "Epoch 36/200\n",
            "3/3 [==============================] - 0s 9ms/step - loss: 1.6855 - accuracy: 0.3333\n",
            "Epoch 37/200\n",
            "3/3 [==============================] - 0s 10ms/step - loss: 1.6652 - accuracy: 0.3333\n",
            "Epoch 38/200\n",
            "3/3 [==============================] - 0s 11ms/step - loss: 1.6444 - accuracy: 0.3457\n",
            "Epoch 39/200\n",
            "3/3 [==============================] - 0s 9ms/step - loss: 1.6233 - accuracy: 0.3580\n",
            "Epoch 40/200\n",
            "3/3 [==============================] - 0s 11ms/step - loss: 1.6032 - accuracy: 0.3580\n",
            "Epoch 41/200\n",
            "3/3 [==============================] - 0s 7ms/step - loss: 1.5831 - accuracy: 0.3580\n",
            "Epoch 42/200\n",
            "3/3 [==============================] - 0s 8ms/step - loss: 1.5615 - accuracy: 0.3951\n",
            "Epoch 43/200\n",
            "3/3 [==============================] - 0s 8ms/step - loss: 1.5423 - accuracy: 0.4321\n",
            "Epoch 44/200\n",
            "3/3 [==============================] - 0s 9ms/step - loss: 1.5212 - accuracy: 0.4568\n",
            "Epoch 45/200\n",
            "3/3 [==============================] - 0s 10ms/step - loss: 1.5009 - accuracy: 0.4815\n",
            "Epoch 46/200\n",
            "3/3 [==============================] - 0s 8ms/step - loss: 1.4809 - accuracy: 0.5062\n",
            "Epoch 47/200\n",
            "3/3 [==============================] - 0s 8ms/step - loss: 1.4619 - accuracy: 0.5309\n",
            "Epoch 48/200\n",
            "3/3 [==============================] - 0s 7ms/step - loss: 1.4410 - accuracy: 0.5309\n",
            "Epoch 49/200\n",
            "3/3 [==============================] - 0s 7ms/step - loss: 1.4217 - accuracy: 0.5556\n",
            "Epoch 50/200\n",
            "3/3 [==============================] - 0s 8ms/step - loss: 1.4030 - accuracy: 0.5802\n",
            "Epoch 51/200\n",
            "3/3 [==============================] - 0s 8ms/step - loss: 1.3834 - accuracy: 0.6049\n",
            "Epoch 52/200\n",
            "3/3 [==============================] - 0s 8ms/step - loss: 1.3642 - accuracy: 0.6296\n",
            "Epoch 53/200\n",
            "3/3 [==============================] - 0s 8ms/step - loss: 1.3449 - accuracy: 0.6543\n",
            "Epoch 54/200\n",
            "3/3 [==============================] - 0s 7ms/step - loss: 1.3254 - accuracy: 0.6667\n",
            "Epoch 55/200\n",
            "3/3 [==============================] - 0s 8ms/step - loss: 1.3059 - accuracy: 0.6667\n",
            "Epoch 56/200\n",
            "3/3 [==============================] - 0s 8ms/step - loss: 1.2866 - accuracy: 0.6667\n",
            "Epoch 57/200\n",
            "3/3 [==============================] - 0s 10ms/step - loss: 1.2675 - accuracy: 0.6667\n",
            "Epoch 58/200\n",
            "3/3 [==============================] - 0s 9ms/step - loss: 1.2475 - accuracy: 0.6790\n",
            "Epoch 59/200\n",
            "3/3 [==============================] - 0s 8ms/step - loss: 1.2268 - accuracy: 0.7037\n",
            "Epoch 60/200\n",
            "3/3 [==============================] - 0s 10ms/step - loss: 1.2067 - accuracy: 0.7284\n",
            "Epoch 61/200\n",
            "3/3 [==============================] - 0s 9ms/step - loss: 1.1856 - accuracy: 0.7407\n",
            "Epoch 62/200\n",
            "3/3 [==============================] - 0s 11ms/step - loss: 1.1636 - accuracy: 0.7407\n",
            "Epoch 63/200\n",
            "3/3 [==============================] - 0s 8ms/step - loss: 1.1433 - accuracy: 0.7407\n",
            "Epoch 64/200\n",
            "3/3 [==============================] - 0s 7ms/step - loss: 1.1205 - accuracy: 0.7407\n",
            "Epoch 65/200\n",
            "3/3 [==============================] - 0s 7ms/step - loss: 1.0995 - accuracy: 0.7160\n",
            "Epoch 66/200\n",
            "3/3 [==============================] - 0s 11ms/step - loss: 1.0786 - accuracy: 0.7160\n",
            "Epoch 67/200\n",
            "3/3 [==============================] - 0s 10ms/step - loss: 1.0552 - accuracy: 0.7284\n",
            "Epoch 68/200\n",
            "3/3 [==============================] - 0s 8ms/step - loss: 1.0339 - accuracy: 0.7160\n",
            "Epoch 69/200\n",
            "3/3 [==============================] - 0s 8ms/step - loss: 1.0121 - accuracy: 0.7160\n",
            "Epoch 70/200\n",
            "3/3 [==============================] - 0s 9ms/step - loss: 0.9917 - accuracy: 0.7160\n",
            "Epoch 71/200\n",
            "3/3 [==============================] - 0s 10ms/step - loss: 0.9686 - accuracy: 0.7778\n",
            "Epoch 72/200\n",
            "3/3 [==============================] - 0s 9ms/step - loss: 0.9477 - accuracy: 0.8519\n",
            "Epoch 73/200\n",
            "3/3 [==============================] - 0s 8ms/step - loss: 0.9285 - accuracy: 0.8519\n",
            "Epoch 74/200\n",
            "3/3 [==============================] - 0s 11ms/step - loss: 0.9086 - accuracy: 0.8642\n",
            "Epoch 75/200\n",
            "3/3 [==============================] - 0s 13ms/step - loss: 0.8875 - accuracy: 0.8642\n",
            "Epoch 76/200\n",
            "3/3 [==============================] - 0s 8ms/step - loss: 0.8677 - accuracy: 0.8642\n",
            "Epoch 77/200\n",
            "3/3 [==============================] - 0s 9ms/step - loss: 0.8488 - accuracy: 0.8765\n",
            "Epoch 78/200\n",
            "3/3 [==============================] - 0s 7ms/step - loss: 0.8297 - accuracy: 0.8765\n",
            "Epoch 79/200\n",
            "3/3 [==============================] - 0s 7ms/step - loss: 0.8121 - accuracy: 0.8642\n",
            "Epoch 80/200\n",
            "3/3 [==============================] - 0s 7ms/step - loss: 0.7935 - accuracy: 0.8889\n",
            "Epoch 81/200\n",
            "3/3 [==============================] - 0s 8ms/step - loss: 0.7754 - accuracy: 0.9012\n",
            "Epoch 82/200\n",
            "3/3 [==============================] - 0s 9ms/step - loss: 0.7572 - accuracy: 0.9012\n",
            "Epoch 83/200\n",
            "3/3 [==============================] - 0s 9ms/step - loss: 0.7411 - accuracy: 0.9136\n",
            "Epoch 84/200\n",
            "3/3 [==============================] - 0s 8ms/step - loss: 0.7255 - accuracy: 0.9259\n",
            "Epoch 85/200\n",
            "3/3 [==============================] - 0s 9ms/step - loss: 0.7087 - accuracy: 0.9136\n",
            "Epoch 86/200\n",
            "3/3 [==============================] - 0s 9ms/step - loss: 0.6913 - accuracy: 0.9136\n",
            "Epoch 87/200\n",
            "3/3 [==============================] - 0s 9ms/step - loss: 0.6775 - accuracy: 0.9383\n",
            "Epoch 88/200\n",
            "3/3 [==============================] - 0s 9ms/step - loss: 0.6625 - accuracy: 0.9259\n",
            "Epoch 89/200\n",
            "3/3 [==============================] - 0s 8ms/step - loss: 0.6472 - accuracy: 0.9136\n",
            "Epoch 90/200\n",
            "3/3 [==============================] - 0s 10ms/step - loss: 0.6343 - accuracy: 0.9383\n",
            "Epoch 91/200\n",
            "3/3 [==============================] - 0s 8ms/step - loss: 0.6169 - accuracy: 0.9383\n",
            "Epoch 92/200\n",
            "3/3 [==============================] - 0s 9ms/step - loss: 0.6037 - accuracy: 0.9506\n",
            "Epoch 93/200\n",
            "3/3 [==============================] - 0s 9ms/step - loss: 0.5895 - accuracy: 0.9506\n",
            "Epoch 94/200\n",
            "3/3 [==============================] - 0s 8ms/step - loss: 0.5757 - accuracy: 0.9506\n",
            "Epoch 95/200\n",
            "3/3 [==============================] - 0s 10ms/step - loss: 0.5625 - accuracy: 0.9506\n",
            "Epoch 96/200\n",
            "3/3 [==============================] - 0s 7ms/step - loss: 0.5497 - accuracy: 0.9506\n",
            "Epoch 97/200\n",
            "3/3 [==============================] - 0s 12ms/step - loss: 0.5371 - accuracy: 0.9630\n",
            "Epoch 98/200\n",
            "3/3 [==============================] - 0s 12ms/step - loss: 0.5262 - accuracy: 0.9506\n",
            "Epoch 99/200\n",
            "3/3 [==============================] - 0s 8ms/step - loss: 0.5116 - accuracy: 0.9506\n",
            "Epoch 100/200\n",
            "3/3 [==============================] - 0s 7ms/step - loss: 0.4996 - accuracy: 0.9506\n",
            "Epoch 101/200\n",
            "3/3 [==============================] - 0s 9ms/step - loss: 0.4877 - accuracy: 0.9506\n",
            "Epoch 102/200\n",
            "3/3 [==============================] - 0s 10ms/step - loss: 0.4779 - accuracy: 0.9506\n",
            "Epoch 103/200\n",
            "3/3 [==============================] - 0s 8ms/step - loss: 0.4655 - accuracy: 0.9630\n",
            "Epoch 104/200\n",
            "3/3 [==============================] - 0s 10ms/step - loss: 0.4565 - accuracy: 0.9506\n",
            "Epoch 105/200\n",
            "3/3 [==============================] - 0s 9ms/step - loss: 0.4460 - accuracy: 0.9506\n",
            "Epoch 106/200\n",
            "3/3 [==============================] - 0s 8ms/step - loss: 0.4338 - accuracy: 0.9630\n",
            "Epoch 107/200\n",
            "3/3 [==============================] - 0s 10ms/step - loss: 0.4230 - accuracy: 0.9506\n",
            "Epoch 108/200\n",
            "3/3 [==============================] - 0s 8ms/step - loss: 0.4119 - accuracy: 0.9506\n",
            "Epoch 109/200\n",
            "3/3 [==============================] - 0s 8ms/step - loss: 0.4024 - accuracy: 0.9506\n",
            "Epoch 110/200\n",
            "3/3 [==============================] - 0s 11ms/step - loss: 0.3916 - accuracy: 0.9506\n",
            "Epoch 111/200\n",
            "3/3 [==============================] - 0s 12ms/step - loss: 0.3847 - accuracy: 0.9630\n",
            "Epoch 112/200\n",
            "3/3 [==============================] - 0s 9ms/step - loss: 0.3741 - accuracy: 0.9630\n",
            "Epoch 113/200\n",
            "3/3 [==============================] - 0s 9ms/step - loss: 0.3644 - accuracy: 0.9753\n",
            "Epoch 114/200\n",
            "3/3 [==============================] - 0s 10ms/step - loss: 0.3543 - accuracy: 0.9753\n",
            "Epoch 115/200\n",
            "3/3 [==============================] - 0s 12ms/step - loss: 0.3471 - accuracy: 0.9753\n",
            "Epoch 116/200\n",
            "3/3 [==============================] - 0s 9ms/step - loss: 0.3384 - accuracy: 0.9753\n",
            "Epoch 117/200\n",
            "3/3 [==============================] - 0s 9ms/step - loss: 0.3308 - accuracy: 0.9753\n",
            "Epoch 118/200\n",
            "3/3 [==============================] - 0s 8ms/step - loss: 0.3225 - accuracy: 0.9753\n",
            "Epoch 119/200\n",
            "3/3 [==============================] - 0s 9ms/step - loss: 0.3147 - accuracy: 0.9630\n",
            "Epoch 120/200\n",
            "3/3 [==============================] - 0s 8ms/step - loss: 0.3084 - accuracy: 0.9506\n",
            "Epoch 121/200\n",
            "3/3 [==============================] - 0s 14ms/step - loss: 0.3011 - accuracy: 0.9506\n",
            "Epoch 122/200\n",
            "3/3 [==============================] - 0s 11ms/step - loss: 0.2944 - accuracy: 0.9753\n",
            "Epoch 123/200\n",
            "3/3 [==============================] - 0s 9ms/step - loss: 0.2882 - accuracy: 0.9753\n",
            "Epoch 124/200\n",
            "3/3 [==============================] - 0s 11ms/step - loss: 0.2812 - accuracy: 0.9753\n",
            "Epoch 125/200\n",
            "3/3 [==============================] - 0s 12ms/step - loss: 0.2755 - accuracy: 0.9753\n",
            "Epoch 126/200\n",
            "3/3 [==============================] - 0s 11ms/step - loss: 0.2697 - accuracy: 0.9753\n",
            "Epoch 127/200\n",
            "3/3 [==============================] - 0s 8ms/step - loss: 0.2643 - accuracy: 0.9877\n",
            "Epoch 128/200\n",
            "3/3 [==============================] - 0s 8ms/step - loss: 0.2595 - accuracy: 0.9877\n",
            "Epoch 129/200\n",
            "3/3 [==============================] - 0s 9ms/step - loss: 0.2524 - accuracy: 0.9877\n",
            "Epoch 130/200\n",
            "3/3 [==============================] - 0s 9ms/step - loss: 0.2483 - accuracy: 0.9877\n",
            "Epoch 131/200\n",
            "3/3 [==============================] - 0s 9ms/step - loss: 0.2428 - accuracy: 0.9877\n",
            "Epoch 132/200\n",
            "3/3 [==============================] - 0s 10ms/step - loss: 0.2374 - accuracy: 0.9877\n",
            "Epoch 133/200\n",
            "3/3 [==============================] - 0s 9ms/step - loss: 0.2332 - accuracy: 0.9877\n",
            "Epoch 134/200\n",
            "3/3 [==============================] - 0s 9ms/step - loss: 0.2280 - accuracy: 0.9877\n",
            "Epoch 135/200\n",
            "3/3 [==============================] - 0s 8ms/step - loss: 0.2245 - accuracy: 0.9877\n",
            "Epoch 136/200\n",
            "3/3 [==============================] - 0s 8ms/step - loss: 0.2200 - accuracy: 0.9877\n",
            "Epoch 137/200\n",
            "3/3 [==============================] - 0s 8ms/step - loss: 0.2141 - accuracy: 0.9877\n",
            "Epoch 138/200\n",
            "3/3 [==============================] - 0s 10ms/step - loss: 0.2111 - accuracy: 0.9877\n",
            "Epoch 139/200\n",
            "3/3 [==============================] - 0s 9ms/step - loss: 0.2081 - accuracy: 0.9877\n",
            "Epoch 140/200\n",
            "3/3 [==============================] - 0s 9ms/step - loss: 0.2028 - accuracy: 0.9877\n",
            "Epoch 141/200\n",
            "3/3 [==============================] - 0s 9ms/step - loss: 0.2025 - accuracy: 0.9877\n",
            "Epoch 142/200\n",
            "3/3 [==============================] - 0s 10ms/step - loss: 0.1970 - accuracy: 0.9877\n",
            "Epoch 143/200\n",
            "3/3 [==============================] - 0s 8ms/step - loss: 0.1933 - accuracy: 0.9877\n",
            "Epoch 144/200\n",
            "3/3 [==============================] - 0s 8ms/step - loss: 0.1886 - accuracy: 0.9877\n",
            "Epoch 145/200\n",
            "3/3 [==============================] - 0s 9ms/step - loss: 0.1846 - accuracy: 0.9877\n",
            "Epoch 146/200\n",
            "3/3 [==============================] - 0s 10ms/step - loss: 0.1812 - accuracy: 0.9877\n",
            "Epoch 147/200\n",
            "3/3 [==============================] - 0s 9ms/step - loss: 0.1798 - accuracy: 0.9753\n",
            "Epoch 148/200\n",
            "3/3 [==============================] - 0s 13ms/step - loss: 0.1765 - accuracy: 0.9753\n",
            "Epoch 149/200\n",
            "3/3 [==============================] - 0s 8ms/step - loss: 0.1726 - accuracy: 0.9877\n",
            "Epoch 150/200\n",
            "3/3 [==============================] - 0s 10ms/step - loss: 0.1694 - accuracy: 0.9877\n",
            "Epoch 151/200\n",
            "3/3 [==============================] - 0s 8ms/step - loss: 0.1660 - accuracy: 0.9877\n",
            "Epoch 152/200\n",
            "3/3 [==============================] - 0s 11ms/step - loss: 0.1623 - accuracy: 0.9877\n",
            "Epoch 153/200\n",
            "3/3 [==============================] - 0s 9ms/step - loss: 0.1615 - accuracy: 0.9877\n",
            "Epoch 154/200\n",
            "3/3 [==============================] - 0s 13ms/step - loss: 0.1595 - accuracy: 0.9877\n",
            "Epoch 155/200\n",
            "3/3 [==============================] - 0s 11ms/step - loss: 0.1555 - accuracy: 0.9877\n",
            "Epoch 156/200\n",
            "3/3 [==============================] - 0s 8ms/step - loss: 0.1525 - accuracy: 0.9877\n",
            "Epoch 157/200\n",
            "3/3 [==============================] - 0s 8ms/step - loss: 0.1513 - accuracy: 0.9877\n",
            "Epoch 158/200\n",
            "3/3 [==============================] - 0s 7ms/step - loss: 0.1479 - accuracy: 0.9877\n",
            "Epoch 159/200\n",
            "3/3 [==============================] - 0s 9ms/step - loss: 0.1447 - accuracy: 0.9877\n",
            "Epoch 160/200\n",
            "3/3 [==============================] - 0s 9ms/step - loss: 0.1431 - accuracy: 0.9877\n",
            "Epoch 161/200\n",
            "3/3 [==============================] - 0s 9ms/step - loss: 0.1417 - accuracy: 0.9877\n",
            "Epoch 162/200\n",
            "3/3 [==============================] - 0s 9ms/step - loss: 0.1389 - accuracy: 0.9877\n",
            "Epoch 163/200\n",
            "3/3 [==============================] - 0s 9ms/step - loss: 0.1368 - accuracy: 0.9877\n",
            "Epoch 164/200\n",
            "3/3 [==============================] - 0s 8ms/step - loss: 0.1353 - accuracy: 0.9877\n",
            "Epoch 165/200\n",
            "3/3 [==============================] - 0s 8ms/step - loss: 0.1339 - accuracy: 0.9877\n",
            "Epoch 166/200\n",
            "3/3 [==============================] - 0s 8ms/step - loss: 0.1304 - accuracy: 0.9877\n",
            "Epoch 167/200\n",
            "3/3 [==============================] - 0s 8ms/step - loss: 0.1286 - accuracy: 0.9877\n",
            "Epoch 168/200\n",
            "3/3 [==============================] - 0s 11ms/step - loss: 0.1261 - accuracy: 0.9877\n",
            "Epoch 169/200\n",
            "3/3 [==============================] - 0s 10ms/step - loss: 0.1239 - accuracy: 0.9877\n",
            "Epoch 170/200\n",
            "3/3 [==============================] - 0s 9ms/step - loss: 0.1240 - accuracy: 0.9877\n",
            "Epoch 171/200\n",
            "3/3 [==============================] - 0s 9ms/step - loss: 0.1206 - accuracy: 0.9877\n",
            "Epoch 172/200\n",
            "3/3 [==============================] - 0s 8ms/step - loss: 0.1194 - accuracy: 0.9877\n",
            "Epoch 173/200\n",
            "3/3 [==============================] - 0s 9ms/step - loss: 0.1179 - accuracy: 0.9877\n",
            "Epoch 174/200\n",
            "3/3 [==============================] - 0s 8ms/step - loss: 0.1155 - accuracy: 0.9877\n",
            "Epoch 175/200\n",
            "3/3 [==============================] - 0s 10ms/step - loss: 0.1123 - accuracy: 0.9877\n",
            "Epoch 176/200\n",
            "3/3 [==============================] - 0s 8ms/step - loss: 0.1113 - accuracy: 0.9877\n",
            "Epoch 177/200\n",
            "3/3 [==============================] - 0s 11ms/step - loss: 0.1109 - accuracy: 0.9877\n",
            "Epoch 178/200\n",
            "3/3 [==============================] - 0s 8ms/step - loss: 0.1088 - accuracy: 0.9877\n",
            "Epoch 179/200\n",
            "3/3 [==============================] - 0s 10ms/step - loss: 0.1064 - accuracy: 1.0000\n",
            "Epoch 180/200\n",
            "3/3 [==============================] - 0s 9ms/step - loss: 0.1053 - accuracy: 1.0000\n",
            "Epoch 181/200\n",
            "3/3 [==============================] - 0s 8ms/step - loss: 0.1037 - accuracy: 1.0000\n",
            "Epoch 182/200\n",
            "3/3 [==============================] - 0s 11ms/step - loss: 0.1018 - accuracy: 1.0000\n",
            "Epoch 183/200\n",
            "3/3 [==============================] - 0s 11ms/step - loss: 0.1005 - accuracy: 1.0000\n",
            "Epoch 184/200\n",
            "3/3 [==============================] - 0s 15ms/step - loss: 0.0994 - accuracy: 1.0000\n",
            "Epoch 185/200\n",
            "3/3 [==============================] - 0s 8ms/step - loss: 0.0978 - accuracy: 1.0000\n",
            "Epoch 186/200\n",
            "3/3 [==============================] - 0s 11ms/step - loss: 0.0962 - accuracy: 1.0000\n",
            "Epoch 187/200\n",
            "3/3 [==============================] - 0s 11ms/step - loss: 0.0958 - accuracy: 1.0000\n",
            "Epoch 188/200\n",
            "3/3 [==============================] - 0s 9ms/step - loss: 0.0936 - accuracy: 1.0000\n",
            "Epoch 189/200\n",
            "3/3 [==============================] - 0s 12ms/step - loss: 0.0930 - accuracy: 1.0000\n",
            "Epoch 190/200\n",
            "3/3 [==============================] - 0s 9ms/step - loss: 0.0915 - accuracy: 1.0000\n",
            "Epoch 191/200\n",
            "3/3 [==============================] - 0s 9ms/step - loss: 0.0905 - accuracy: 1.0000\n",
            "Epoch 192/200\n",
            "3/3 [==============================] - 0s 8ms/step - loss: 0.0891 - accuracy: 1.0000\n",
            "Epoch 193/200\n",
            "3/3 [==============================] - 0s 13ms/step - loss: 0.0869 - accuracy: 1.0000\n",
            "Epoch 194/200\n",
            "3/3 [==============================] - 0s 9ms/step - loss: 0.0872 - accuracy: 1.0000\n",
            "Epoch 195/200\n",
            "3/3 [==============================] - 0s 9ms/step - loss: 0.0868 - accuracy: 1.0000\n",
            "Epoch 196/200\n",
            "3/3 [==============================] - 0s 9ms/step - loss: 0.0847 - accuracy: 1.0000\n",
            "Epoch 197/200\n",
            "3/3 [==============================] - 0s 9ms/step - loss: 0.0836 - accuracy: 1.0000\n",
            "Epoch 198/200\n",
            "3/3 [==============================] - 0s 11ms/step - loss: 0.0820 - accuracy: 1.0000\n",
            "Epoch 199/200\n",
            "3/3 [==============================] - 0s 8ms/step - loss: 0.0808 - accuracy: 1.0000\n",
            "Epoch 200/200\n",
            "3/3 [==============================] - 0s 11ms/step - loss: 0.0798 - accuracy: 1.0000\n"
          ],
          "name": "stdout"
        }
      ]
    },
    {
      "cell_type": "code",
      "metadata": {
        "id": "okjsO6xiWAmu"
      },
      "source": [
        ""
      ],
      "execution_count": null,
      "outputs": []
    },
    {
      "cell_type": "markdown",
      "metadata": {
        "id": "6VUvJzKtWBA0"
      },
      "source": [
        ""
      ]
    },
    {
      "cell_type": "markdown",
      "metadata": {
        "id": "s-wNE6BAcVRD"
      },
      "source": [
        "<h2> Model Analysis </h2>\n",
        "\n",
        "The model got a perfect accuracy of 100%. "
      ]
    },
    {
      "cell_type": "code",
      "metadata": {
        "colab": {
          "base_uri": "https://localhost:8080/",
          "height": 283
        },
        "id": "BcWCycGSLbeB",
        "outputId": "e761ac56-94ec-4167-89a7-a3295c8a8c2a"
      },
      "source": [
        "#plotting model accuracy\n",
        "plt.plot(train.history['accuracy'],label='training set accuracy')\n",
        "plt.plot(train.history['loss'],label='training set loss')\n",
        "plt.legend()"
      ],
      "execution_count": null,
      "outputs": [
        {
          "output_type": "execute_result",
          "data": {
            "text/plain": [
              "<matplotlib.legend.Legend at 0x7f5233e72d50>"
            ]
          },
          "metadata": {
            "tags": []
          },
          "execution_count": 17
        },
        {
          "output_type": "display_data",
          "data": {
            "image/png": "[encoded data removed]",
            "text/plain": [
              "<Figure size 432x288 with 1 Axes>"
            ]
          },
          "metadata": {
            "tags": [],
            "needs_background": "light"
          }
        }
      ]
    },
    {
      "cell_type": "markdown",
      "metadata": {
        "id": "lS5K6YP3cVRE"
      },
      "source": [
        "<h2> Testing </h2>\n",
        "\n",
        "I have also tested the model in a way to mimic a human interacting with a bot and got positive results. however, This was very simple because of the tiny amount of data that I have created. but, the same model can also be used with large amount of data"
      ]
    },
    {
      "cell_type": "code",
      "metadata": {
        "colab": {
          "base_uri": "https://localhost:8080/"
        },
        "id": "71ITeJqtfV0s",
        "outputId": "4fc22d93-59a2-48f5-a5ee-7a88d83e3cd5"
      },
      "source": [
        "#chatting\n",
        "import random\n",
        "\n",
        "\n",
        "while True:\n",
        "  texts_p = []\n",
        "  prediction_input = input('You : ')\n",
        "\n",
        "  #removing punctuation and converting to lowercase\n",
        "  prediction_input = [letters.lower() for letters in prediction_input if letters not in string.punctuation]\n",
        "  prediction_input = ''.join(prediction_input)\n",
        "  texts_p.append(prediction_input)\n",
        "\n",
        "  #tokenizing and padding\n",
        "  prediction_input = tokenizer.texts_to_sequences(texts_p)\n",
        "  prediction_input = np.array(prediction_input).reshape(-1)\n",
        "  prediction_input = pad_sequences([prediction_input],input_shape)\n",
        "\n",
        "  #getting output from model\n",
        "  output = model.predict(prediction_input)\n",
        "  output = output.argmax()\n",
        "\n",
        "  #finding the right tag and predicting\n",
        "  response_tag = le.inverse_transform([output])[0]\n",
        "  print(\"Going Merry : \",random.choice(responses[response_tag]))\n",
        "  if response_tag == \"goodbye\":\n",
        "    break"
      ],
      "execution_count": null,
      "outputs": [
        {
          "output_type": "stream",
          "text": [
            "You : how are you ? \n",
            "Going Merry :  Things are Great\n",
            "You : how are you ?\n",
            "Going Merry :  Yeah Fine, nothing much going on in my life\n",
            "You : how are you ?\n",
            "Going Merry :  Everything's great.\n",
            "You : hi\n",
            "Going Merry :  Hey yo, do you need help ?\n",
            "You : yes\n",
            "Going Merry :  Hello my friend, How can I help you ?\n",
            "You : what are the job requirements ?\n",
            "Going Merry :  you gotta master the art of swordfight or master Cooking and become a furious cook or you have to be the best navigator in the entire world or you need to be as strong and intelligent as god usop\n",
            "You : location \n",
            "Going Merry :  Hello my friend, How can I help you ?\n",
            "You : location of your office\n",
            "Going Merry :  Things are Great\n",
            "You : who are you ?\n",
            "Going Merry :  I am a The Great Pirate Bot , you can call me Going Merry\n",
            "You : how are you ?\n",
            "Going Merry :  Everything's going on well\n"
          ],
          "name": "stdout"
        }
      ]
    },
    {
      "cell_type": "markdown",
      "metadata": {
        "id": "s3eCWrSMcVRF"
      },
      "source": [
        "<h2> Conclusion </h2>\n",
        "So, This is the Chatbot that I have created with tensorflow2 utilizing the power of embedding matrix.<br>\n",
        "This was created in memory og <b> Going Merry </b> , a ship from a manga called \"One Piece\" which revolves around the story of 5 pirates. "
      ]
    }
  ]
}